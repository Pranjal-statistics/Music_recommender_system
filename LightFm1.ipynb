{
 "cells": [
  {
   "cell_type": "code",
   "execution_count": null,
   "metadata": {},
   "outputs": [],
   "source": [
    "!pip install lightfm\n",
    "!pip install pandas\n",
    "!pip install numpy\n",
    "!pip install scipy\n",
    "!pip install lightfm"
   ]
  },
  {
   "cell_type": "code",
   "execution_count": null,
   "metadata": {},
   "outputs": [],
   "source": [
    "import pandas as pd\n",
    "import numpy as np\n",
    "from scipy.sparse import coo_matrix, csr_matrix\n",
    "from lightfm import LightFM\n",
    "from lightfm.data import Dataset\n",
    "from lightfm.evaluation import precision_at_k\n",
    "import time"
   ]
  },
  {
   "cell_type": "code",
   "execution_count": null,
   "metadata": {},
   "outputs": [],
   "source": [
    "##tune params##\n",
    "no_components = 30\n",
    "alpha = 0.01\n",
    "\n",
    "start = time.time()\n",
    "train= pd.read_parquet(\"/home/ps4379/final-project-group-29/train_small.parquet\")\n",
    "val= pd.read_parquet(\"/home/ps4379/final-project-group-29/validation_small.parquet\")\n",
    "print(train.head())"
   ]
  },
  {
   "cell_type": "code",
   "execution_count": null,
   "metadata": {},
   "outputs": [],
   "source": [
    "# build train coo matrix\n",
    "train_dt = Dataset()\n",
    "# Fit the Dataset object to the data\n",
    "train_dt.fit(train['user_id'].unique(), train['recording_msid'].unique())\n",
    "\n",
    "print(\"fit done\")\n",
    "\n",
    "# Build the interaction matrix\n",
    "(train_interaction, weights) = train_dt.build_interactions(\n",
    "    ((row['user_id'], row['recording_msid'], row['listens']) for index, row in train.iterrows())\n",
    ")"
   ]
  },
  {
   "cell_type": "code",
   "execution_count": null,
   "metadata": {},
   "outputs": [],
   "source": [
    "model = LightFM(no_components=no_components, loss='warp',item_alpha=alpha, user_alpha=alpha)\n",
    "model.fit(train_interaction, num_threads=1) \n",
    "\n",
    "train_precision = precision_at_k(model, train_interaction, k=100).mean()\n",
    "\n",
    "print('rank: %d, alpha: %f, train MAP:  %f',(no_components, alpha, train_precision))"
   ]
  },
  {
   "cell_type": "code",
   "execution_count": null,
   "metadata": {},
   "outputs": [],
   "source": [
    "user_index_mapping = train_dt.mapping()[0]\n",
    "item_index_mapping = train_dt.mapping()[2]\n",
    "matrix_shape = train_dt.interactions_shape()"
   ]
  },
  {
   "cell_type": "code",
   "execution_count": null,
   "metadata": {},
   "outputs": [],
   "source": [
    "val = val[val['user_id'].isin(train['user_id']) & val['recording_msid'].isin(train['recording_msid'])]\n",
    "## test = test[test['user_id'].isin(train['user_id']) & test['recording_msid'].isin(train['recording_msid'])]\n"
   ]
  },
  {
   "cell_type": "code",
   "execution_count": null,
   "metadata": {},
   "outputs": [],
   "source": [
    "# use the val data to build a matrix with the same shape of train\n",
    "val_user = np.array([user_index_mapping[i] for i in val['user_id']])\n",
    "val_item = np.array([item_index_mapping[i] for i in val['recording_msid']])\n",
    "val_rating = val['listens'] \n",
    "val_interaction = coo_matrix((val_rating, (val_user, val_item)), shape=matrix_shape)\n",
    "val_precision = precision_at_k(model, val_interaction, k=100).mean()\n",
    "\n"
   ]
  },
  {
   "cell_type": "code",
   "execution_count": null,
   "metadata": {},
   "outputs": [],
   "source": [
    "print('rank: %d, alpha: %f, val MAP:  %f',(no_components, alpha, val_precision))"
   ]
  }
 ],
 "metadata": {
  "language_info": {
   "name": "python"
  },
  "orig_nbformat": 4
 },
 "nbformat": 4,
 "nbformat_minor": 2
}
